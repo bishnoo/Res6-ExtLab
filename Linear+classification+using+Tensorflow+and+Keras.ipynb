{
 "cells": [
  {
   "cell_type": "markdown",
   "metadata": {},
   "source": [
    "### Load tensorflow"
   ]
  },
  {
   "cell_type": "code",
   "execution_count": 1,
   "metadata": {},
   "outputs": [
    {
     "name": "stderr",
     "output_type": "stream",
     "text": [
      "C:\\Users\\bananth\\AppData\\Local\\Continuum\\anaconda3\\lib\\site-packages\\h5py\\__init__.py:36: FutureWarning: Conversion of the second argument of issubdtype from `float` to `np.floating` is deprecated. In future, it will be treated as `np.float64 == np.dtype(float).type`.\n",
      "  from ._conv import register_converters as _register_converters\n"
     ]
    }
   ],
   "source": [
    "import tensorflow as tf"
   ]
  },
  {
   "cell_type": "code",
   "execution_count": 2,
   "metadata": {
    "slideshow": {
     "slide_type": "fragment"
    }
   },
   "outputs": [],
   "source": [
    "#Reset Default graph - Needed only for Jupyter notebook\n",
    "tf.reset_default_graph()"
   ]
  },
  {
   "cell_type": "code",
   "execution_count": 16,
   "metadata": {},
   "outputs": [],
   "source": [
    "import pandas as pd\n",
    "import numpy as np\n",
    "import scipy as sp\n",
    "from sklearn.cross_validation import train_test_split\n",
    "from sklearn.feature_extraction.text import CountVectorizer, TfidfVectorizer\n",
    "from sklearn.naive_bayes import MultinomialNB\n",
    "from sklearn.linear_model import LogisticRegression\n",
    "from sklearn import metrics\n",
    "from sklearn import model_selection\n",
    "#from textblob import TextBlob, Word\n",
    "from nltk.stem.snowball import SnowballStemmer\n",
    "%matplotlib inline\n",
    "from importlib import reload\n",
    "import warnings\n",
    "warnings.filterwarnings('ignore')"
   ]
  },
  {
   "cell_type": "markdown",
   "metadata": {
    "slideshow": {
     "slide_type": "slide"
    }
   },
   "source": [
    "### Collect Data (prices.csv)"
   ]
  },
  {
   "cell_type": "code",
   "execution_count": 4,
   "metadata": {},
   "outputs": [],
   "source": [
    "data = pd.read_csv('prices.csv')#, encoding = 'unicode_escape')"
   ]
  },
  {
   "cell_type": "code",
   "execution_count": 9,
   "metadata": {},
   "outputs": [
    {
     "data": {
      "text/html": [
       "<div>\n",
       "<style scoped>\n",
       "    .dataframe tbody tr th:only-of-type {\n",
       "        vertical-align: middle;\n",
       "    }\n",
       "\n",
       "    .dataframe tbody tr th {\n",
       "        vertical-align: top;\n",
       "    }\n",
       "\n",
       "    .dataframe thead th {\n",
       "        text-align: right;\n",
       "    }\n",
       "</style>\n",
       "<table border=\"1\" class=\"dataframe\">\n",
       "  <thead>\n",
       "    <tr style=\"text-align: right;\">\n",
       "      <th></th>\n",
       "      <th>date</th>\n",
       "      <th>symbol</th>\n",
       "      <th>open</th>\n",
       "      <th>close</th>\n",
       "      <th>low</th>\n",
       "      <th>high</th>\n",
       "      <th>volume</th>\n",
       "    </tr>\n",
       "  </thead>\n",
       "  <tbody>\n",
       "    <tr>\n",
       "      <th>0</th>\n",
       "      <td>2016-01-05 00:00:00</td>\n",
       "      <td>WLTW</td>\n",
       "      <td>123.430000</td>\n",
       "      <td>125.839996</td>\n",
       "      <td>122.309998</td>\n",
       "      <td>126.250000</td>\n",
       "      <td>2163600.0</td>\n",
       "    </tr>\n",
       "    <tr>\n",
       "      <th>1</th>\n",
       "      <td>2016-01-06 00:00:00</td>\n",
       "      <td>WLTW</td>\n",
       "      <td>125.239998</td>\n",
       "      <td>119.980003</td>\n",
       "      <td>119.940002</td>\n",
       "      <td>125.540001</td>\n",
       "      <td>2386400.0</td>\n",
       "    </tr>\n",
       "    <tr>\n",
       "      <th>2</th>\n",
       "      <td>2016-01-07 00:00:00</td>\n",
       "      <td>WLTW</td>\n",
       "      <td>116.379997</td>\n",
       "      <td>114.949997</td>\n",
       "      <td>114.930000</td>\n",
       "      <td>119.739998</td>\n",
       "      <td>2489500.0</td>\n",
       "    </tr>\n",
       "    <tr>\n",
       "      <th>3</th>\n",
       "      <td>2016-01-08 00:00:00</td>\n",
       "      <td>WLTW</td>\n",
       "      <td>115.480003</td>\n",
       "      <td>116.620003</td>\n",
       "      <td>113.500000</td>\n",
       "      <td>117.440002</td>\n",
       "      <td>2006300.0</td>\n",
       "    </tr>\n",
       "    <tr>\n",
       "      <th>4</th>\n",
       "      <td>2016-01-11 00:00:00</td>\n",
       "      <td>WLTW</td>\n",
       "      <td>117.010002</td>\n",
       "      <td>114.970001</td>\n",
       "      <td>114.089996</td>\n",
       "      <td>117.330002</td>\n",
       "      <td>1408600.0</td>\n",
       "    </tr>\n",
       "  </tbody>\n",
       "</table>\n",
       "</div>"
      ],
      "text/plain": [
       "                  date symbol        open       close         low        high  \\\n",
       "0  2016-01-05 00:00:00   WLTW  123.430000  125.839996  122.309998  126.250000   \n",
       "1  2016-01-06 00:00:00   WLTW  125.239998  119.980003  119.940002  125.540001   \n",
       "2  2016-01-07 00:00:00   WLTW  116.379997  114.949997  114.930000  119.739998   \n",
       "3  2016-01-08 00:00:00   WLTW  115.480003  116.620003  113.500000  117.440002   \n",
       "4  2016-01-11 00:00:00   WLTW  117.010002  114.970001  114.089996  117.330002   \n",
       "\n",
       "      volume  \n",
       "0  2163600.0  \n",
       "1  2386400.0  \n",
       "2  2489500.0  \n",
       "3  2006300.0  \n",
       "4  1408600.0  "
      ]
     },
     "execution_count": 9,
     "metadata": {},
     "output_type": "execute_result"
    }
   ],
   "source": [
    "data.head()"
   ]
  },
  {
   "cell_type": "code",
   "execution_count": 6,
   "metadata": {},
   "outputs": [
    {
     "data": {
      "text/plain": [
       "(851264, 7)"
      ]
     },
     "execution_count": 6,
     "metadata": {},
     "output_type": "execute_result"
    }
   ],
   "source": [
    "data.shape"
   ]
  },
  {
   "cell_type": "markdown",
   "metadata": {},
   "source": [
    "### Check all columns in the dataset"
   ]
  },
  {
   "cell_type": "code",
   "execution_count": 7,
   "metadata": {},
   "outputs": [
    {
     "data": {
      "text/plain": [
       "date       object\n",
       "symbol     object\n",
       "open      float64\n",
       "close     float64\n",
       "low       float64\n",
       "high      float64\n",
       "volume    float64\n",
       "dtype: object"
      ]
     },
     "execution_count": 7,
     "metadata": {},
     "output_type": "execute_result"
    }
   ],
   "source": [
    "data.dtypes"
   ]
  },
  {
   "cell_type": "markdown",
   "metadata": {},
   "source": [
    "### Drop columns `date` and  `symbol`"
   ]
  },
  {
   "cell_type": "code",
   "execution_count": 11,
   "metadata": {},
   "outputs": [],
   "source": [
    "data.drop(['date', 'symbol'], axis=1, inplace=True)"
   ]
  },
  {
   "cell_type": "code",
   "execution_count": 12,
   "metadata": {},
   "outputs": [
    {
     "data": {
      "text/html": [
       "<div>\n",
       "<style scoped>\n",
       "    .dataframe tbody tr th:only-of-type {\n",
       "        vertical-align: middle;\n",
       "    }\n",
       "\n",
       "    .dataframe tbody tr th {\n",
       "        vertical-align: top;\n",
       "    }\n",
       "\n",
       "    .dataframe thead th {\n",
       "        text-align: right;\n",
       "    }\n",
       "</style>\n",
       "<table border=\"1\" class=\"dataframe\">\n",
       "  <thead>\n",
       "    <tr style=\"text-align: right;\">\n",
       "      <th></th>\n",
       "      <th>open</th>\n",
       "      <th>close</th>\n",
       "      <th>low</th>\n",
       "      <th>high</th>\n",
       "      <th>volume</th>\n",
       "    </tr>\n",
       "  </thead>\n",
       "  <tbody>\n",
       "    <tr>\n",
       "      <th>0</th>\n",
       "      <td>123.430000</td>\n",
       "      <td>125.839996</td>\n",
       "      <td>122.309998</td>\n",
       "      <td>126.250000</td>\n",
       "      <td>2163600.0</td>\n",
       "    </tr>\n",
       "    <tr>\n",
       "      <th>1</th>\n",
       "      <td>125.239998</td>\n",
       "      <td>119.980003</td>\n",
       "      <td>119.940002</td>\n",
       "      <td>125.540001</td>\n",
       "      <td>2386400.0</td>\n",
       "    </tr>\n",
       "    <tr>\n",
       "      <th>2</th>\n",
       "      <td>116.379997</td>\n",
       "      <td>114.949997</td>\n",
       "      <td>114.930000</td>\n",
       "      <td>119.739998</td>\n",
       "      <td>2489500.0</td>\n",
       "    </tr>\n",
       "    <tr>\n",
       "      <th>3</th>\n",
       "      <td>115.480003</td>\n",
       "      <td>116.620003</td>\n",
       "      <td>113.500000</td>\n",
       "      <td>117.440002</td>\n",
       "      <td>2006300.0</td>\n",
       "    </tr>\n",
       "    <tr>\n",
       "      <th>4</th>\n",
       "      <td>117.010002</td>\n",
       "      <td>114.970001</td>\n",
       "      <td>114.089996</td>\n",
       "      <td>117.330002</td>\n",
       "      <td>1408600.0</td>\n",
       "    </tr>\n",
       "  </tbody>\n",
       "</table>\n",
       "</div>"
      ],
      "text/plain": [
       "         open       close         low        high     volume\n",
       "0  123.430000  125.839996  122.309998  126.250000  2163600.0\n",
       "1  125.239998  119.980003  119.940002  125.540001  2386400.0\n",
       "2  116.379997  114.949997  114.930000  119.739998  2489500.0\n",
       "3  115.480003  116.620003  113.500000  117.440002  2006300.0\n",
       "4  117.010002  114.970001  114.089996  117.330002  1408600.0"
      ]
     },
     "execution_count": 12,
     "metadata": {},
     "output_type": "execute_result"
    }
   ],
   "source": [
    "data.head()"
   ]
  },
  {
   "cell_type": "markdown",
   "metadata": {},
   "source": [
    "### Consider only first 1000 rows in the dataset for building feature set and target set"
   ]
  },
  {
   "cell_type": "code",
   "execution_count": 17,
   "metadata": {},
   "outputs": [],
   "source": [
    "data1 = data.copy(deep=True)"
   ]
  },
  {
   "cell_type": "code",
   "execution_count": 18,
   "metadata": {},
   "outputs": [],
   "source": [
    "data1=data.head(1000)"
   ]
  },
  {
   "cell_type": "code",
   "execution_count": 19,
   "metadata": {},
   "outputs": [
    {
     "data": {
      "text/plain": [
       "(1000, 5)"
      ]
     },
     "execution_count": 19,
     "metadata": {},
     "output_type": "execute_result"
    }
   ],
   "source": [
    "data1.shape"
   ]
  },
  {
   "cell_type": "markdown",
   "metadata": {},
   "source": [
    "### Divide the data into train and test sets"
   ]
  },
  {
   "cell_type": "code",
   "execution_count": 34,
   "metadata": {},
   "outputs": [],
   "source": [
    "x=data1[['open','low','high','volume']]\n",
    "y=data1[\"close\"]"
   ]
  },
  {
   "cell_type": "code",
   "execution_count": 37,
   "metadata": {},
   "outputs": [],
   "source": [
    "from sklearn.model_selection import train_test_split\n",
    "from sklearn.preprocessing import StandardScaler\n",
    "x_train,x_test,y_train,y_test = train_test_split(x,y,test_size=0.3)"
   ]
  },
  {
   "cell_type": "code",
   "execution_count": 38,
   "metadata": {},
   "outputs": [
    {
     "data": {
      "text/plain": [
       "(300, 4)"
      ]
     },
     "execution_count": 38,
     "metadata": {},
     "output_type": "execute_result"
    }
   ],
   "source": [
    "x_test.shape"
   ]
  },
  {
   "cell_type": "code",
   "execution_count": 39,
   "metadata": {},
   "outputs": [
    {
     "data": {
      "text/plain": [
       "(700, 4)"
      ]
     },
     "execution_count": 39,
     "metadata": {},
     "output_type": "execute_result"
    }
   ],
   "source": [
    "x_train.shape"
   ]
  },
  {
   "cell_type": "markdown",
   "metadata": {
    "slideshow": {
     "slide_type": "slide"
    }
   },
   "source": [
    "## Building the graph in tensorflow"
   ]
  },
  {
   "cell_type": "markdown",
   "metadata": {
    "slideshow": {
     "slide_type": "slide"
    }
   },
   "source": [
    "1.Define input data placeholders"
   ]
  },
  {
   "cell_type": "code",
   "execution_count": 60,
   "metadata": {},
   "outputs": [],
   "source": [
    "#Input features\n",
    "x = tf.placeholder(shape=[None,4],dtype=tf.float32, name='x-input')\n",
    "\n",
    "#Normalize the data\n",
    "#x_n = tf.layers.batch_normalization(x,training=True)\n",
    "x_n = tf.nn.l2_normalize(x,1)\n",
    "#Actual Prices\n",
    "y_ = tf.placeholder(shape=[None],dtype=tf.float32, name='y-input')"
   ]
  },
  {
   "cell_type": "markdown",
   "metadata": {
    "slideshow": {
     "slide_type": "slide"
    }
   },
   "source": [
    "2.Define Weights and Bias"
   ]
  },
  {
   "cell_type": "code",
   "execution_count": 61,
   "metadata": {},
   "outputs": [],
   "source": [
    "W = tf.Variable(tf.zeros(shape=[4,1]), name=\"Weights\")\n",
    "b = tf.Variable(tf.zeros(shape=[1]),name=\"Bias\")"
   ]
  },
  {
   "cell_type": "markdown",
   "metadata": {
    "slideshow": {
     "slide_type": "slide"
    }
   },
   "source": [
    "3.Prediction"
   ]
  },
  {
   "cell_type": "code",
   "execution_count": 62,
   "metadata": {},
   "outputs": [],
   "source": [
    "#We will use normalized data\n",
    "y = tf.add(tf.matmul(x_n,W),b,name='output')"
   ]
  },
  {
   "cell_type": "markdown",
   "metadata": {
    "slideshow": {
     "slide_type": "slide"
    }
   },
   "source": [
    "4.Loss (Cost) Function [Mean square error]"
   ]
  },
  {
   "cell_type": "code",
   "execution_count": 63,
   "metadata": {},
   "outputs": [],
   "source": [
    "loss = tf.reduce_mean(tf.square(y-y_),name='Loss')"
   ]
  },
  {
   "cell_type": "markdown",
   "metadata": {
    "slideshow": {
     "slide_type": "slide"
    }
   },
   "source": [
    "5.GradientDescent Optimizer to minimize Loss [GradientDescentOptimizer]"
   ]
  },
  {
   "cell_type": "code",
   "execution_count": 64,
   "metadata": {},
   "outputs": [],
   "source": [
    "train_op = tf.train.GradientDescentOptimizer(0.03).minimize(loss)"
   ]
  },
  {
   "cell_type": "markdown",
   "metadata": {
    "slideshow": {
     "slide_type": "slide"
    }
   },
   "source": [
    "## Execute the Graph for 100 epochs and observe the loss"
   ]
  },
  {
   "cell_type": "code",
   "execution_count": 65,
   "metadata": {},
   "outputs": [],
   "source": [
    "#Lets start graph Execution\n",
    "sess = tf.Session()\n",
    "\n",
    "# variables need to be initialized before we can use them\n",
    "sess.run(tf.global_variables_initializer())\n",
    "\n",
    "#how many times data need to be shown to model\n",
    "training_epochs = 100"
   ]
  },
  {
   "cell_type": "code",
   "execution_count": 66,
   "metadata": {},
   "outputs": [
    {
     "name": "stdout",
     "output_type": "stream",
     "text": [
      "Training loss at step:  0  is  7614.526\n",
      "Training loss at step:  10  is  3438.6426\n",
      "Training loss at step:  20  is  3114.7883\n",
      "Training loss at step:  30  is  3089.7612\n",
      "Training loss at step:  40  is  3087.7058\n",
      "Training loss at step:  50  is  3087.6328\n",
      "Training loss at step:  60  is  3087.555\n",
      "Training loss at step:  70  is  3087.5247\n",
      "Training loss at step:  80  is  3087.6018\n",
      "Training loss at step:  90  is  3087.594\n"
     ]
    }
   ],
   "source": [
    "for epoch in range(training_epochs):\n",
    "            \n",
    "    #Calculate train_op and loss\n",
    "    _, train_loss = sess.run([train_op,loss],feed_dict={x:x_train, y_:y_train})\n",
    "    \n",
    "    if epoch % 10 == 0:\n",
    "        print ('Training loss at step: ', epoch, ' is ', train_loss)"
   ]
  },
  {
   "cell_type": "markdown",
   "metadata": {},
   "source": [
    "### Get the shapes and values of W and b\n",
    "\n",
    "Hint: Use sess.run(W) to get W."
   ]
  },
  {
   "cell_type": "code",
   "execution_count": 67,
   "metadata": {},
   "outputs": [
    {
     "data": {
      "text/plain": [
       "array([[2.6261436e-03],\n",
       "       [2.6021248e-03],\n",
       "       [2.6471072e-03],\n",
       "       [3.3643013e+01]], dtype=float32)"
      ]
     },
     "execution_count": 67,
     "metadata": {},
     "output_type": "execute_result"
    }
   ],
   "source": [
    "shape_w=tf.shape(W)\n",
    "\n",
    "sess.run(W)"
   ]
  },
  {
   "cell_type": "code",
   "execution_count": 68,
   "metadata": {},
   "outputs": [
    {
     "data": {
      "text/plain": [
       "array([33.64303], dtype=float32)"
      ]
     },
     "execution_count": 68,
     "metadata": {},
     "output_type": "execute_result"
    }
   ],
   "source": [
    "shape_b=tf.shape(b)\n",
    "\n",
    "sess.run(b)"
   ]
  },
  {
   "cell_type": "markdown",
   "metadata": {},
   "source": [
    "### Find the Absolute mean square loss difference between training and testing loss."
   ]
  },
  {
   "cell_type": "code",
   "execution_count": 69,
   "metadata": {},
   "outputs": [],
   "source": [
    "#Lets start graph Execution\n",
    "sess = tf.Session()\n",
    "\n",
    "# variables need to be initialized before we can use them\n",
    "sess.run(tf.global_variables_initializer())\n",
    "\n",
    "#how many times data need to be shown to model\n",
    "training_epochs = 100"
   ]
  },
  {
   "cell_type": "code",
   "execution_count": 88,
   "metadata": {},
   "outputs": [
    {
     "name": "stdout",
     "output_type": "stream",
     "text": [
      "Test loss at step:  0  is  4135.2\n",
      "Test loss at step:  10  is  4135.2\n",
      "Test loss at step:  20  is  4135.2\n",
      "Test loss at step:  30  is  4135.2\n",
      "Test loss at step:  40  is  4135.2\n",
      "Test loss at step:  50  is  4135.2\n",
      "Test loss at step:  60  is  4135.2\n",
      "Test loss at step:  70  is  4135.2\n",
      "Test loss at step:  80  is  4135.2\n",
      "Test loss at step:  90  is  4135.2\n"
     ]
    }
   ],
   "source": [
    "for epoch in range(training_epochs):\n",
    "            \n",
    "    #Calculate train_op and loss\n",
    "    _, test_loss = sess.run([train_op,loss],feed_dict={x:x_test, y_:y_test})\n",
    "    \n",
    "    if epoch % 10 == 0:\n",
    "        print ('Test loss at step: ', epoch, ' is ', test_loss)"
   ]
  },
  {
   "cell_type": "code",
   "execution_count": 87,
   "metadata": {},
   "outputs": [
    {
     "name": "stdout",
     "output_type": "stream",
     "text": [
      "-1047.6099\n"
     ]
    }
   ],
   "source": [
    "print(train_loss-test_loss)"
   ]
  },
  {
   "cell_type": "markdown",
   "metadata": {},
   "source": [
    "### Linear Classification using Keras"
   ]
  },
  {
   "cell_type": "markdown",
   "metadata": {
    "slideshow": {
     "slide_type": "slide"
    }
   },
   "source": [
    "### Building the simple Neural Network in Keras with one neuron in the dense hidden layer.\n",
    "#### Use Mean square error as loss function and sgd as optimizer"
   ]
  },
  {
   "cell_type": "code",
   "execution_count": 89,
   "metadata": {},
   "outputs": [],
   "source": [
    "#Initialize Sequential model\n",
    "model = tf.keras.models.Sequential()\n",
    "\n",
    "#Reshape data from 2D to 1D -> 28x28 to 784\n",
    "#model.add(tf.keras.layers.Reshape((784,),input_shape=(28,28,)))\n",
    "\n",
    "#Normalize the data\n",
    "model.add(tf.keras.layers.BatchNormalization(input_shape=(4,)))\n",
    "\n",
    "#Add Dense Layer which provides 10 Outputs after applying softmax\n",
    "model.add(tf.keras.layers.Dense(1))\n",
    "\n",
    "#Comile the model\n",
    "model.compile(optimizer='sgd', loss='mse', metrics=['accuracy'])"
   ]
  },
  {
   "cell_type": "markdown",
   "metadata": {
    "slideshow": {
     "slide_type": "slide"
    }
   },
   "source": [
    "### Execute the model"
   ]
  },
  {
   "cell_type": "code",
   "execution_count": 90,
   "metadata": {},
   "outputs": [
    {
     "name": "stdout",
     "output_type": "stream",
     "text": [
      "Train on 700 samples, validate on 300 samples\n",
      "Epoch 1/100\n",
      "700/700 [==============================] - 0s 442us/step - loss: 7505.8872 - acc: 0.0000e+00 - val_loss: 162.1730 - val_acc: 0.0000e+00\n",
      "Epoch 2/100\n",
      "700/700 [==============================] - 0s 3us/step - loss: 6352.6357 - acc: 0.0000e+00 - val_loss: 60830.6055 - val_acc: 0.0000e+00\n",
      "Epoch 3/100\n",
      "700/700 [==============================] - 0s 6us/step - loss: 1874.9443 - acc: 0.0000e+00 - val_loss: 651299.3125 - val_acc: 0.0000e+00\n",
      "Epoch 4/100\n",
      "700/700 [==============================] - 0s 6us/step - loss: 3224.3979 - acc: 0.0000e+00 - val_loss: 9096.6934 - val_acc: 0.0000e+00\n",
      "Epoch 5/100\n",
      "700/700 [==============================] - 0s 5us/step - loss: 7001.5972 - acc: 0.0000e+00 - val_loss: 3502.0867 - val_acc: 0.0000e+00\n",
      "Epoch 6/100\n",
      "700/700 [==============================] - 0s 9us/step - loss: 5224.5220 - acc: 0.0000e+00 - val_loss: 42097.6250 - val_acc: 0.0000e+00\n",
      "Epoch 7/100\n",
      "700/700 [==============================] - 0s 9us/step - loss: 336.0626 - acc: 0.0000e+00 - val_loss: 175931.1562 - val_acc: 0.0000e+00\n",
      "Epoch 8/100\n",
      "700/700 [==============================] - 0s 6us/step - loss: 494.2632 - acc: 0.0000e+00 - val_loss: 2387.6033 - val_acc: 0.0000e+00\n",
      "Epoch 9/100\n",
      "700/700 [==============================] - 0s 7us/step - loss: 2479.6711 - acc: 0.0000e+00 - val_loss: 207424.6094 - val_acc: 0.0000e+00\n",
      "Epoch 10/100\n",
      "700/700 [==============================] - 0s 4us/step - loss: 2782.4504 - acc: 0.0000e+00 - val_loss: 7942.0610 - val_acc: 0.0000e+00\n",
      "Epoch 11/100\n",
      "700/700 [==============================] - 0s 9us/step - loss: 7000.4302 - acc: 0.0000e+00 - val_loss: 6758.8794 - val_acc: 0.0000e+00\n",
      "Epoch 12/100\n",
      "700/700 [==============================] - 0s 8us/step - loss: 6452.3301 - acc: 0.0000e+00 - val_loss: 1224.3184 - val_acc: 0.0000e+00\n",
      "Epoch 13/100\n",
      "700/700 [==============================] - 0s 6us/step - loss: 4072.7686 - acc: 0.0000e+00 - val_loss: 49586.4141 - val_acc: 0.0000e+00\n",
      "Epoch 14/100\n",
      "700/700 [==============================] - 0s 6us/step - loss: 212.8452 - acc: 0.0000e+00 - val_loss: 12256.1963 - val_acc: 0.0000e+00\n",
      "Epoch 15/100\n",
      "700/700 [==============================] - 0s 7us/step - loss: 849.0173 - acc: 0.0000e+00 - val_loss: 114993.4688 - val_acc: 0.0000e+00\n",
      "Epoch 16/100\n",
      "700/700 [==============================] - 0s 7us/step - loss: 2317.4558 - acc: 0.0000e+00 - val_loss: 7380.2100 - val_acc: 0.0000e+00\n",
      "Epoch 17/100\n",
      "700/700 [==============================] - 0s 6us/step - loss: 6646.6284 - acc: 0.0000e+00 - val_loss: 6261.1929 - val_acc: 0.0000e+00\n",
      "Epoch 18/100\n",
      "700/700 [==============================] - 0s 7us/step - loss: 6125.8501 - acc: 0.0000e+00 - val_loss: 2556.8008 - val_acc: 0.0000e+00\n",
      "Epoch 19/100\n",
      "700/700 [==============================] - 0s 4us/step - loss: 4194.3408 - acc: 0.0000e+00 - val_loss: 8944.9883 - val_acc: 0.0000e+00\n",
      "Epoch 20/100\n",
      "700/700 [==============================] - 0s 4us/step - loss: 420.7921 - acc: 0.0000e+00 - val_loss: 34025.6328 - val_acc: 0.0000e+00\n",
      "Epoch 21/100\n",
      "700/700 [==============================] - 0s 6us/step - loss: 121.4358 - acc: 0.0000e+00 - val_loss: 10056.1484 - val_acc: 0.0000e+00\n",
      "Epoch 22/100\n",
      "700/700 [==============================] - 0s 7us/step - loss: 198.4571 - acc: 0.0000e+00 - val_loss: 39105.1328 - val_acc: 0.0000e+00\n",
      "Epoch 23/100\n",
      "700/700 [==============================] - 0s 7us/step - loss: 345.4730 - acc: 0.0014 - val_loss: 1457.7842 - val_acc: 0.0000e+00\n",
      "Epoch 24/100\n",
      "700/700 [==============================] - 0s 6us/step - loss: 1376.1541 - acc: 0.0000e+00 - val_loss: 53594.1211 - val_acc: 0.0000e+00\n",
      "Epoch 25/100\n",
      "700/700 [==============================] - 0s 4us/step - loss: 1771.9097 - acc: 0.0000e+00 - val_loss: 3444.9954 - val_acc: 0.0000e+00\n",
      "Epoch 26/100\n",
      "700/700 [==============================] - 0s 4us/step - loss: 5506.9463 - acc: 0.0000e+00 - val_loss: 158.7765 - val_acc: 0.0000e+00\n",
      "Epoch 27/100\n",
      "700/700 [==============================] - 0s 6us/step - loss: 2315.8604 - acc: 0.0000e+00 - val_loss: 35390.5117 - val_acc: 0.0000e+00\n",
      "Epoch 28/100\n",
      "700/700 [==============================] - 0s 4us/step - loss: 917.2415 - acc: 0.0000e+00 - val_loss: 200.4871 - val_acc: 0.0000e+00\n",
      "Epoch 29/100\n",
      "700/700 [==============================] - 0s 4us/step - loss: 3307.5864 - acc: 0.0000e+00 - val_loss: 18555.5234 - val_acc: 0.0000e+00\n",
      "Epoch 30/100\n",
      "700/700 [==============================] - 0s 4us/step - loss: 109.3998 - acc: 0.0000e+00 - val_loss: 5244.2812 - val_acc: 0.0000e+00\n",
      "Epoch 31/100\n",
      "700/700 [==============================] - 0s 4us/step - loss: 408.1621 - acc: 0.0000e+00 - val_loss: 30151.4004 - val_acc: 0.0000e+00\n",
      "Epoch 32/100\n",
      "700/700 [==============================] - 0s 6us/step - loss: 938.6555 - acc: 0.0000e+00 - val_loss: 444.3134 - val_acc: 0.0033\n",
      "Epoch 33/100\n",
      "700/700 [==============================] - 0s 4us/step - loss: 3293.1536 - acc: 0.0000e+00 - val_loss: 16244.4131 - val_acc: 0.0000e+00\n",
      "Epoch 34/100\n",
      "700/700 [==============================] - 0s 4us/step - loss: 82.0688 - acc: 0.0014 - val_loss: 4204.2686 - val_acc: 0.0000e+00\n",
      "Epoch 35/100\n",
      "700/700 [==============================] - 0s 4us/step - loss: 283.5902 - acc: 0.0000e+00 - val_loss: 24210.9902 - val_acc: 0.0000e+00\n",
      "Epoch 36/100\n",
      "700/700 [==============================] - 0s 9us/step - loss: 678.8292 - acc: 0.0000e+00 - val_loss: 149.3967 - val_acc: 0.0000e+00\n",
      "Epoch 37/100\n",
      "700/700 [==============================] - 0s 8us/step - loss: 2418.0793 - acc: 0.0000e+00 - val_loss: 19944.8359 - val_acc: 0.0000e+00\n",
      "Epoch 38/100\n",
      "700/700 [==============================] - 0s 7us/step - loss: 593.6586 - acc: 0.0000e+00 - val_loss: 50.9354 - val_acc: 0.0000e+00\n",
      "Epoch 39/100\n",
      "700/700 [==============================] - 0s 6us/step - loss: 2131.4561 - acc: 0.0000e+00 - val_loss: 20041.7656 - val_acc: 0.0000e+00\n",
      "Epoch 40/100\n",
      "700/700 [==============================] - 0s 5us/step - loss: 782.4847 - acc: 0.0000e+00 - val_loss: 143.4772 - val_acc: 0.0033\n",
      "Epoch 41/100\n",
      "700/700 [==============================] - 0s 6us/step - loss: 2681.3350 - acc: 0.0000e+00 - val_loss: 15594.8945 - val_acc: 0.0000e+00\n",
      "Epoch 42/100\n",
      "700/700 [==============================] - 0s 4us/step - loss: 311.5446 - acc: 0.0000e+00 - val_loss: 447.8909 - val_acc: 0.0000e+00\n",
      "Epoch 43/100\n",
      "700/700 [==============================] - 0s 6us/step - loss: 1100.0149 - acc: 0.0000e+00 - val_loss: 23431.6133 - val_acc: 0.0000e+00\n",
      "Epoch 44/100\n",
      "700/700 [==============================] - 0s 6us/step - loss: 1237.0381 - acc: 0.0000e+00 - val_loss: 1909.3762 - val_acc: 0.0000e+00\n",
      "Epoch 45/100\n",
      "700/700 [==============================] - 0s 4us/step - loss: 3815.2383 - acc: 0.0000e+00 - val_loss: 3380.1575 - val_acc: 0.0000e+00\n",
      "Epoch 46/100\n",
      "700/700 [==============================] - 0s 5us/step - loss: 121.8035 - acc: 0.0000e+00 - val_loss: 12351.6221 - val_acc: 0.0000e+00\n",
      "Epoch 47/100\n",
      "700/700 [==============================] - 0s 6us/step - loss: 261.7374 - acc: 0.0000e+00 - val_loss: 609.8218 - val_acc: 0.0000e+00\n",
      "Epoch 48/100\n",
      "700/700 [==============================] - 0s 6us/step - loss: 866.6937 - acc: 0.0000e+00 - val_loss: 16771.3047 - val_acc: 0.0000e+00\n",
      "Epoch 49/100\n",
      "700/700 [==============================] - 0s 4us/step - loss: 1128.9313 - acc: 0.0000e+00 - val_loss: 579.2518 - val_acc: 0.0000e+00\n",
      "Epoch 50/100\n",
      "700/700 [==============================] - 0s 4us/step - loss: 3611.6660 - acc: 0.0000e+00 - val_loss: 3122.8132 - val_acc: 0.0000e+00\n",
      "Epoch 51/100\n",
      "700/700 [==============================] - 0s 7us/step - loss: 90.8806 - acc: 0.0000e+00 - val_loss: 10588.9551 - val_acc: 0.0000e+00\n",
      "Epoch 52/100\n",
      "700/700 [==============================] - 0s 6us/step - loss: 218.6192 - acc: 0.0014 - val_loss: 761.1747 - val_acc: 0.0000e+00\n",
      "Epoch 53/100\n",
      "700/700 [==============================] - 0s 6us/step - loss: 704.1915 - acc: 0.0000e+00 - val_loss: 17781.8496 - val_acc: 0.0000e+00\n",
      "Epoch 54/100\n",
      "700/700 [==============================] - 0s 6us/step - loss: 989.8391 - acc: 0.0000e+00 - val_loss: 2113.2334 - val_acc: 0.0000e+00\n",
      "Epoch 55/100\n",
      "700/700 [==============================] - 0s 7us/step - loss: 2748.3748 - acc: 0.0000e+00 - val_loss: 4880.6782 - val_acc: 0.0000e+00\n",
      "Epoch 56/100\n",
      "700/700 [==============================] - 0s 7us/step - loss: 162.1965 - acc: 0.0000e+00 - val_loss: 3014.3262 - val_acc: 0.0000e+00\n"
     ]
    },
    {
     "name": "stdout",
     "output_type": "stream",
     "text": [
      "Epoch 57/100\n",
      "700/700 [==============================] - 0s 4us/step - loss: 711.6043 - acc: 0.0000e+00 - val_loss: 8654.2471 - val_acc: 0.0000e+00\n",
      "Epoch 58/100\n",
      "700/700 [==============================] - 0s 6us/step - loss: 2457.1206 - acc: 0.0000e+00 - val_loss: 861.5908 - val_acc: 0.0000e+00\n",
      "Epoch 59/100\n",
      "700/700 [==============================] - 0s 4us/step - loss: 4904.0200 - acc: 0.0000e+00 - val_loss: 1182.6897 - val_acc: 0.0000e+00\n",
      "Epoch 60/100\n",
      "700/700 [==============================] - 0s 4us/step - loss: 2873.7495 - acc: 0.0000e+00 - val_loss: 56771.6875 - val_acc: 0.0000e+00\n",
      "Epoch 61/100\n",
      "700/700 [==============================] - 0s 6us/step - loss: 7916.6685 - acc: 0.0014 - val_loss: 12887.8799 - val_acc: 0.0000e+00\n",
      "Epoch 62/100\n",
      "700/700 [==============================] - 0s 6us/step - loss: 3304.3667 - acc: 0.0000e+00 - val_loss: 3655.1516 - val_acc: 0.0000e+00\n",
      "Epoch 63/100\n",
      "700/700 [==============================] - 0s 6us/step - loss: 3253.0686 - acc: 0.0000e+00 - val_loss: 5994.6719 - val_acc: 0.0000e+00\n",
      "Epoch 64/100\n",
      "700/700 [==============================] - 0s 4us/step - loss: 2158.4512 - acc: 0.0000e+00 - val_loss: 3309.8997 - val_acc: 0.0000e+00\n",
      "Epoch 65/100\n",
      "700/700 [==============================] - 0s 6us/step - loss: 4104.0952 - acc: 0.0000e+00 - val_loss: 15236.9268 - val_acc: 0.0000e+00\n",
      "Epoch 66/100\n",
      "700/700 [==============================] - 0s 6us/step - loss: 1551.6853 - acc: 0.0000e+00 - val_loss: 4509.5107 - val_acc: 0.0000e+00\n",
      "Epoch 67/100\n",
      "700/700 [==============================] - 0s 6us/step - loss: 3742.2031 - acc: 0.0000e+00 - val_loss: 1403.7288 - val_acc: 0.0000e+00\n",
      "Epoch 68/100\n",
      "700/700 [==============================] - 0s 5us/step - loss: 432.1589 - acc: 0.0000e+00 - val_loss: 5758.9795 - val_acc: 0.0000e+00\n",
      "Epoch 69/100\n",
      "700/700 [==============================] - 0s 6us/step - loss: 144.9436 - acc: 0.0014 - val_loss: 252.0268 - val_acc: 0.0000e+00\n",
      "Epoch 70/100\n",
      "700/700 [==============================] - 0s 6us/step - loss: 619.0613 - acc: 0.0014 - val_loss: 14197.5771 - val_acc: 0.0000e+00\n",
      "Epoch 71/100\n",
      "700/700 [==============================] - 0s 6us/step - loss: 1485.6228 - acc: 0.0000e+00 - val_loss: 5054.8477 - val_acc: 0.0000e+00\n",
      "Epoch 72/100\n",
      "700/700 [==============================] - 0s 5us/step - loss: 4771.5996 - acc: 0.0000e+00 - val_loss: 562.7195 - val_acc: 0.0000e+00\n",
      "Epoch 73/100\n",
      "700/700 [==============================] - 0s 5us/step - loss: 1587.1057 - acc: 0.0014 - val_loss: 12283.5098 - val_acc: 0.0000e+00\n",
      "Epoch 74/100\n",
      "700/700 [==============================] - 0s 4us/step - loss: 1280.6622 - acc: 0.0000e+00 - val_loss: 4088.2542 - val_acc: 0.0000e+00\n",
      "Epoch 75/100\n",
      "700/700 [==============================] - 0s 4us/step - loss: 4169.9663 - acc: 0.0014 - val_loss: 182.2864 - val_acc: 0.0000e+00\n",
      "Epoch 76/100\n",
      "700/700 [==============================] - 0s 7us/step - loss: 684.0453 - acc: 0.0000e+00 - val_loss: 11475.9141 - val_acc: 0.0000e+00\n",
      "Epoch 77/100\n",
      "700/700 [==============================] - 0s 4us/step - loss: 1256.6484 - acc: 0.0000e+00 - val_loss: 3968.6404 - val_acc: 0.0000e+00\n",
      "Epoch 78/100\n",
      "700/700 [==============================] - 0s 5us/step - loss: 4045.3633 - acc: 0.0014 - val_loss: 194.7913 - val_acc: 0.0000e+00\n",
      "Epoch 79/100\n",
      "700/700 [==============================] - 0s 5us/step - loss: 592.0744 - acc: 0.0000e+00 - val_loss: 10159.0840 - val_acc: 0.0000e+00\n",
      "Epoch 80/100\n",
      "700/700 [==============================] - 0s 6us/step - loss: 1122.2821 - acc: 0.0000e+00 - val_loss: 3428.9595 - val_acc: 0.0033\n",
      "Epoch 81/100\n",
      "700/700 [==============================] - 0s 7us/step - loss: 3669.7847 - acc: 0.0000e+00 - val_loss: 524.4329 - val_acc: 0.0000e+00\n",
      "Epoch 82/100\n",
      "700/700 [==============================] - 0s 6us/step - loss: 209.4727 - acc: 0.0000e+00 - val_loss: 6588.8267 - val_acc: 0.0000e+00\n",
      "Epoch 83/100\n",
      "700/700 [==============================] - 0s 6us/step - loss: 535.4706 - acc: 0.0014 - val_loss: 1088.9021 - val_acc: 0.0000e+00\n",
      "Epoch 84/100\n",
      "700/700 [==============================] - 0s 6us/step - loss: 1938.6979 - acc: 0.0000e+00 - val_loss: 7059.6558 - val_acc: 0.0000e+00\n",
      "Epoch 85/100\n",
      "700/700 [==============================] - 0s 4us/step - loss: 682.0115 - acc: 0.0000e+00 - val_loss: 1639.3578 - val_acc: 0.0000e+00\n",
      "Epoch 86/100\n",
      "700/700 [==============================] - 0s 6us/step - loss: 2385.4436 - acc: 0.0014 - val_loss: 4640.1396 - val_acc: 0.0000e+00\n",
      "Epoch 87/100\n",
      "700/700 [==============================] - 0s 6us/step - loss: 291.7622 - acc: 0.0000e+00 - val_loss: 303.1455 - val_acc: 0.0000e+00\n",
      "Epoch 88/100\n",
      "700/700 [==============================] - 0s 4us/step - loss: 1056.2601 - acc: 0.0014 - val_loss: 8623.8447 - val_acc: 0.0000e+00\n",
      "Epoch 89/100\n",
      "700/700 [==============================] - 0s 4us/step - loss: 1129.4893 - acc: 0.0000e+00 - val_loss: 3346.8701 - val_acc: 0.0000e+00\n",
      "Epoch 90/100\n",
      "700/700 [==============================] - 0s 6us/step - loss: 3526.2837 - acc: 0.0000e+00 - val_loss: 368.6454 - val_acc: 0.0000e+00\n",
      "Epoch 91/100\n",
      "700/700 [==============================] - 0s 6us/step - loss: 213.1923 - acc: 0.0000e+00 - val_loss: 5255.9746 - val_acc: 0.0000e+00\n",
      "Epoch 92/100\n",
      "700/700 [==============================] - 0s 4us/step - loss: 483.2129 - acc: 0.0014 - val_loss: 898.2562 - val_acc: 0.0000e+00\n",
      "Epoch 93/100\n",
      "700/700 [==============================] - 0s 4us/step - loss: 1657.8998 - acc: 0.0000e+00 - val_loss: 6064.6895 - val_acc: 0.0000e+00\n",
      "Epoch 94/100\n",
      "700/700 [==============================] - 0s 6us/step - loss: 708.6108 - acc: 0.0000e+00 - val_loss: 1672.1722 - val_acc: 0.0033\n",
      "Epoch 95/100\n",
      "700/700 [==============================] - 0s 6us/step - loss: 2324.4443 - acc: 0.0014 - val_loss: 3335.8110 - val_acc: 0.0000e+00\n",
      "Epoch 96/100\n",
      "700/700 [==============================] - 0s 6us/step - loss: 203.1653 - acc: 0.0000e+00 - val_loss: 142.1322 - val_acc: 0.0000e+00\n",
      "Epoch 97/100\n",
      "700/700 [==============================] - 0s 4us/step - loss: 680.6038 - acc: 0.0014 - val_loss: 6558.7817 - val_acc: 0.0000e+00\n",
      "Epoch 98/100\n",
      "700/700 [==============================] - 0s 6us/step - loss: 917.6318 - acc: 0.0000e+00 - val_loss: 2430.0930 - val_acc: 0.0000e+00\n",
      "Epoch 99/100\n",
      "700/700 [==============================] - 0s 4us/step - loss: 2832.9844 - acc: 0.0000e+00 - val_loss: 1252.1021 - val_acc: 0.0000e+00\n",
      "Epoch 100/100\n",
      "700/700 [==============================] - 0s 4us/step - loss: 5.0122 - acc: 0.0014 - val_loss: 1099.3408 - val_acc: 0.0000e+00\n"
     ]
    },
    {
     "data": {
      "text/plain": [
       "<tensorflow.python.keras.callbacks.History at 0x2851ee8b080>"
      ]
     },
     "execution_count": 90,
     "metadata": {},
     "output_type": "execute_result"
    }
   ],
   "source": [
    "model.fit(x_train, y_train, \n",
    "          validation_data=(x_test, y_test), \n",
    "          epochs=100,\n",
    "          batch_size=x_train.shape[0])"
   ]
  },
  {
   "cell_type": "markdown",
   "metadata": {
    "collapsed": true
   },
   "source": [
    "### Build a 2 layer neural network with input layer, 5 neurons in first hidden layer and one neuron in the output layer."
   ]
  },
  {
   "cell_type": "code",
   "execution_count": 91,
   "metadata": {},
   "outputs": [],
   "source": [
    "#Initialize Sequential model\n",
    "model = tf.keras.models.Sequential()\n",
    "\n",
    "#Reshape data from 2D to 1D -> 28x28 to 784\n",
    "#model.add(tf.keras.layers.Reshape((784,),input_shape=(28,28,)))\n",
    "\n",
    "#Normalize the data\n",
    "model.add(tf.keras.layers.BatchNormalization(input_shape=(4,)))\n",
    "\n",
    "model.add(tf.keras.layers.Dense(5))\n",
    "\n",
    "model.add(tf.keras.layers.Dense(1))\n",
    "\n",
    "model.compile(optimizer='sgd', loss='mse', metrics=['accuracy'])"
   ]
  },
  {
   "cell_type": "code",
   "execution_count": 92,
   "metadata": {},
   "outputs": [
    {
     "name": "stdout",
     "output_type": "stream",
     "text": [
      "Train on 700 samples, validate on 300 samples\n",
      "Epoch 1/100\n",
      "700/700 [==============================] - 0s 660us/step - loss: 7933.3823 - acc: 0.0000e+00 - val_loss: 9435.1738 - val_acc: 0.0000e+00\n",
      "Epoch 2/100\n",
      "700/700 [==============================] - 0s 7us/step - loss: 7907.3384 - acc: 0.0000e+00 - val_loss: 13840.4668 - val_acc: 0.0000e+00\n",
      "Epoch 3/100\n",
      "700/700 [==============================] - 0s 6us/step - loss: 7365.5693 - acc: 0.0000e+00 - val_loss: 96266720.0000 - val_acc: 0.0000e+00\n",
      "Epoch 4/100\n",
      "700/700 [==============================] - 0s 7us/step - loss: 2564400.2500 - acc: 0.0000e+00 - val_loss: 206705080789944928043008.0000 - val_acc: 0.0000e+00\n",
      "Epoch 5/100\n",
      "700/700 [==============================] - 0s 6us/step - loss: 8017732520909836648448.0000 - acc: 0.0000e+00 - val_loss: inf - val_acc: 0.0000e+00\n",
      "Epoch 6/100\n",
      "700/700 [==============================] - 0s 10us/step - loss: inf - acc: 0.0000e+00 - val_loss: nan - val_acc: 0.0000e+00\n",
      "Epoch 7/100\n",
      "700/700 [==============================] - 0s 6us/step - loss: nan - acc: 0.0000e+00 - val_loss: nan - val_acc: 0.0000e+00\n",
      "Epoch 8/100\n",
      "700/700 [==============================] - 0s 6us/step - loss: nan - acc: 0.0000e+00 - val_loss: nan - val_acc: 0.0000e+00\n",
      "Epoch 9/100\n",
      "700/700 [==============================] - 0s 6us/step - loss: nan - acc: 0.0000e+00 - val_loss: nan - val_acc: 0.0000e+00\n",
      "Epoch 10/100\n",
      "700/700 [==============================] - 0s 7us/step - loss: nan - acc: 0.0000e+00 - val_loss: nan - val_acc: 0.0000e+00\n",
      "Epoch 11/100\n",
      "700/700 [==============================] - 0s 8us/step - loss: nan - acc: 0.0000e+00 - val_loss: nan - val_acc: 0.0000e+00\n",
      "Epoch 12/100\n",
      "700/700 [==============================] - 0s 6us/step - loss: nan - acc: 0.0000e+00 - val_loss: nan - val_acc: 0.0000e+00\n",
      "Epoch 13/100\n",
      "700/700 [==============================] - 0s 6us/step - loss: nan - acc: 0.0000e+00 - val_loss: nan - val_acc: 0.0000e+00\n",
      "Epoch 14/100\n",
      "700/700 [==============================] - 0s 6us/step - loss: nan - acc: 0.0000e+00 - val_loss: nan - val_acc: 0.0000e+00\n",
      "Epoch 15/100\n",
      "700/700 [==============================] - 0s 6us/step - loss: nan - acc: 0.0000e+00 - val_loss: nan - val_acc: 0.0000e+00\n",
      "Epoch 16/100\n",
      "700/700 [==============================] - 0s 7us/step - loss: nan - acc: 0.0000e+00 - val_loss: nan - val_acc: 0.0000e+00\n",
      "Epoch 17/100\n",
      "700/700 [==============================] - 0s 10us/step - loss: nan - acc: 0.0000e+00 - val_loss: nan - val_acc: 0.0000e+00\n",
      "Epoch 18/100\n",
      "700/700 [==============================] - 0s 6us/step - loss: nan - acc: 0.0000e+00 - val_loss: nan - val_acc: 0.0000e+00\n",
      "Epoch 19/100\n",
      "700/700 [==============================] - 0s 6us/step - loss: nan - acc: 0.0000e+00 - val_loss: nan - val_acc: 0.0000e+00\n",
      "Epoch 20/100\n",
      "700/700 [==============================] - 0s 7us/step - loss: nan - acc: 0.0000e+00 - val_loss: nan - val_acc: 0.0000e+00\n",
      "Epoch 21/100\n",
      "700/700 [==============================] - 0s 6us/step - loss: nan - acc: 0.0000e+00 - val_loss: nan - val_acc: 0.0000e+00\n",
      "Epoch 22/100\n",
      "700/700 [==============================] - 0s 4us/step - loss: nan - acc: 0.0000e+00 - val_loss: nan - val_acc: 0.0000e+00\n",
      "Epoch 23/100\n",
      "700/700 [==============================] - 0s 7us/step - loss: nan - acc: 0.0000e+00 - val_loss: nan - val_acc: 0.0000e+00\n",
      "Epoch 24/100\n",
      "700/700 [==============================] - 0s 6us/step - loss: nan - acc: 0.0000e+00 - val_loss: nan - val_acc: 0.0000e+00\n",
      "Epoch 25/100\n",
      "700/700 [==============================] - 0s 6us/step - loss: nan - acc: 0.0000e+00 - val_loss: nan - val_acc: 0.0000e+00\n",
      "Epoch 26/100\n",
      "700/700 [==============================] - 0s 7us/step - loss: nan - acc: 0.0000e+00 - val_loss: nan - val_acc: 0.0000e+00\n",
      "Epoch 27/100\n",
      "700/700 [==============================] - 0s 6us/step - loss: nan - acc: 0.0000e+00 - val_loss: nan - val_acc: 0.0000e+00\n",
      "Epoch 28/100\n",
      "700/700 [==============================] - 0s 7us/step - loss: nan - acc: 0.0000e+00 - val_loss: nan - val_acc: 0.0000e+00\n",
      "Epoch 29/100\n",
      "700/700 [==============================] - 0s 6us/step - loss: nan - acc: 0.0000e+00 - val_loss: nan - val_acc: 0.0000e+00\n",
      "Epoch 30/100\n",
      "700/700 [==============================] - 0s 6us/step - loss: nan - acc: 0.0000e+00 - val_loss: nan - val_acc: 0.0000e+00\n",
      "Epoch 31/100\n",
      "700/700 [==============================] - 0s 6us/step - loss: nan - acc: 0.0000e+00 - val_loss: nan - val_acc: 0.0000e+00\n",
      "Epoch 32/100\n",
      "700/700 [==============================] - 0s 6us/step - loss: nan - acc: 0.0000e+00 - val_loss: nan - val_acc: 0.0000e+00\n",
      "Epoch 33/100\n",
      "700/700 [==============================] - 0s 6us/step - loss: nan - acc: 0.0000e+00 - val_loss: nan - val_acc: 0.0000e+00\n",
      "Epoch 34/100\n",
      "700/700 [==============================] - 0s 6us/step - loss: nan - acc: 0.0000e+00 - val_loss: nan - val_acc: 0.0000e+00\n",
      "Epoch 35/100\n",
      "700/700 [==============================] - 0s 6us/step - loss: nan - acc: 0.0000e+00 - val_loss: nan - val_acc: 0.0000e+00\n",
      "Epoch 36/100\n",
      "700/700 [==============================] - 0s 4us/step - loss: nan - acc: 0.0000e+00 - val_loss: nan - val_acc: 0.0000e+00\n",
      "Epoch 37/100\n",
      "700/700 [==============================] - 0s 6us/step - loss: nan - acc: 0.0000e+00 - val_loss: nan - val_acc: 0.0000e+00\n",
      "Epoch 38/100\n",
      "700/700 [==============================] - 0s 6us/step - loss: nan - acc: 0.0000e+00 - val_loss: nan - val_acc: 0.0000e+00\n",
      "Epoch 39/100\n",
      "700/700 [==============================] - 0s 7us/step - loss: nan - acc: 0.0000e+00 - val_loss: nan - val_acc: 0.0000e+00\n",
      "Epoch 40/100\n",
      "700/700 [==============================] - 0s 6us/step - loss: nan - acc: 0.0000e+00 - val_loss: nan - val_acc: 0.0000e+00\n",
      "Epoch 41/100\n",
      "700/700 [==============================] - 0s 7us/step - loss: nan - acc: 0.0000e+00 - val_loss: nan - val_acc: 0.0000e+00\n",
      "Epoch 42/100\n",
      "700/700 [==============================] - 0s 6us/step - loss: nan - acc: 0.0000e+00 - val_loss: nan - val_acc: 0.0000e+00\n",
      "Epoch 43/100\n",
      "700/700 [==============================] - 0s 6us/step - loss: nan - acc: 0.0000e+00 - val_loss: nan - val_acc: 0.0000e+00\n",
      "Epoch 44/100\n",
      "700/700 [==============================] - 0s 5us/step - loss: nan - acc: 0.0000e+00 - val_loss: nan - val_acc: 0.0000e+00\n",
      "Epoch 45/100\n",
      "700/700 [==============================] - 0s 6us/step - loss: nan - acc: 0.0000e+00 - val_loss: nan - val_acc: 0.0000e+00\n",
      "Epoch 46/100\n",
      "700/700 [==============================] - 0s 5us/step - loss: nan - acc: 0.0000e+00 - val_loss: nan - val_acc: 0.0000e+00\n",
      "Epoch 47/100\n",
      "700/700 [==============================] - 0s 6us/step - loss: nan - acc: 0.0000e+00 - val_loss: nan - val_acc: 0.0000e+00\n",
      "Epoch 48/100\n",
      "700/700 [==============================] - 0s 5us/step - loss: nan - acc: 0.0000e+00 - val_loss: nan - val_acc: 0.0000e+00\n",
      "Epoch 49/100\n",
      "700/700 [==============================] - 0s 5us/step - loss: nan - acc: 0.0000e+00 - val_loss: nan - val_acc: 0.0000e+00\n",
      "Epoch 50/100\n",
      "700/700 [==============================] - 0s 9us/step - loss: nan - acc: 0.0000e+00 - val_loss: nan - val_acc: 0.0000e+00\n",
      "Epoch 51/100\n",
      "700/700 [==============================] - 0s 6us/step - loss: nan - acc: 0.0000e+00 - val_loss: nan - val_acc: 0.0000e+00\n",
      "Epoch 52/100\n",
      "700/700 [==============================] - 0s 6us/step - loss: nan - acc: 0.0000e+00 - val_loss: nan - val_acc: 0.0000e+00\n",
      "Epoch 53/100\n",
      "700/700 [==============================] - 0s 6us/step - loss: nan - acc: 0.0000e+00 - val_loss: nan - val_acc: 0.0000e+00\n",
      "Epoch 54/100\n",
      "700/700 [==============================] - 0s 6us/step - loss: nan - acc: 0.0000e+00 - val_loss: nan - val_acc: 0.0000e+00\n",
      "Epoch 55/100\n",
      "700/700 [==============================] - 0s 7us/step - loss: nan - acc: 0.0000e+00 - val_loss: nan - val_acc: 0.0000e+00\n",
      "Epoch 56/100\n",
      "700/700 [==============================] - 0s 6us/step - loss: nan - acc: 0.0000e+00 - val_loss: nan - val_acc: 0.0000e+00\n",
      "Epoch 57/100\n",
      "700/700 [==============================] - 0s 9us/step - loss: nan - acc: 0.0000e+00 - val_loss: nan - val_acc: 0.0000e+00\n",
      "Epoch 58/100\n",
      "700/700 [==============================] - 0s 6us/step - loss: nan - acc: 0.0000e+00 - val_loss: nan - val_acc: 0.0000e+00\n",
      "Epoch 59/100\n",
      "700/700 [==============================] - 0s 6us/step - loss: nan - acc: 0.0000e+00 - val_loss: nan - val_acc: 0.0000e+00\n",
      "Epoch 60/100\n",
      "700/700 [==============================] - 0s 6us/step - loss: nan - acc: 0.0000e+00 - val_loss: nan - val_acc: 0.0000e+00\n"
     ]
    },
    {
     "name": "stdout",
     "output_type": "stream",
     "text": [
      "Epoch 61/100\n",
      "700/700 [==============================] - 0s 5us/step - loss: nan - acc: 0.0000e+00 - val_loss: nan - val_acc: 0.0000e+00\n",
      "Epoch 62/100\n",
      "700/700 [==============================] - 0s 4us/step - loss: nan - acc: 0.0000e+00 - val_loss: nan - val_acc: 0.0000e+00\n",
      "Epoch 63/100\n",
      "700/700 [==============================] - 0s 6us/step - loss: nan - acc: 0.0000e+00 - val_loss: nan - val_acc: 0.0000e+00\n",
      "Epoch 64/100\n",
      "700/700 [==============================] - 0s 6us/step - loss: nan - acc: 0.0000e+00 - val_loss: nan - val_acc: 0.0000e+00\n",
      "Epoch 65/100\n",
      "700/700 [==============================] - 0s 5us/step - loss: nan - acc: 0.0000e+00 - val_loss: nan - val_acc: 0.0000e+00\n",
      "Epoch 66/100\n",
      "700/700 [==============================] - 0s 6us/step - loss: nan - acc: 0.0000e+00 - val_loss: nan - val_acc: 0.0000e+00\n",
      "Epoch 67/100\n",
      "700/700 [==============================] - 0s 6us/step - loss: nan - acc: 0.0000e+00 - val_loss: nan - val_acc: 0.0000e+00\n",
      "Epoch 68/100\n",
      "700/700 [==============================] - 0s 7us/step - loss: nan - acc: 0.0000e+00 - val_loss: nan - val_acc: 0.0000e+00\n",
      "Epoch 69/100\n",
      "700/700 [==============================] - 0s 7us/step - loss: nan - acc: 0.0000e+00 - val_loss: nan - val_acc: 0.0000e+00\n",
      "Epoch 70/100\n",
      "700/700 [==============================] - 0s 4us/step - loss: nan - acc: 0.0000e+00 - val_loss: nan - val_acc: 0.0000e+00\n",
      "Epoch 71/100\n",
      "700/700 [==============================] - 0s 6us/step - loss: nan - acc: 0.0000e+00 - val_loss: nan - val_acc: 0.0000e+00\n",
      "Epoch 72/100\n",
      "700/700 [==============================] - 0s 11us/step - loss: nan - acc: 0.0000e+00 - val_loss: nan - val_acc: 0.0000e+00\n",
      "Epoch 73/100\n",
      "700/700 [==============================] - 0s 6us/step - loss: nan - acc: 0.0000e+00 - val_loss: nan - val_acc: 0.0000e+00\n",
      "Epoch 74/100\n",
      "700/700 [==============================] - 0s 10us/step - loss: nan - acc: 0.0000e+00 - val_loss: nan - val_acc: 0.0000e+00\n",
      "Epoch 75/100\n",
      "700/700 [==============================] - 0s 6us/step - loss: nan - acc: 0.0000e+00 - val_loss: nan - val_acc: 0.0000e+00\n",
      "Epoch 76/100\n",
      "700/700 [==============================] - 0s 7us/step - loss: nan - acc: 0.0000e+00 - val_loss: nan - val_acc: 0.0000e+00\n",
      "Epoch 77/100\n",
      "700/700 [==============================] - 0s 7us/step - loss: nan - acc: 0.0000e+00 - val_loss: nan - val_acc: 0.0000e+00\n",
      "Epoch 78/100\n",
      "700/700 [==============================] - 0s 6us/step - loss: nan - acc: 0.0000e+00 - val_loss: nan - val_acc: 0.0000e+00\n",
      "Epoch 79/100\n",
      "700/700 [==============================] - 0s 7us/step - loss: nan - acc: 0.0000e+00 - val_loss: nan - val_acc: 0.0000e+00\n",
      "Epoch 80/100\n",
      "700/700 [==============================] - 0s 6us/step - loss: nan - acc: 0.0000e+00 - val_loss: nan - val_acc: 0.0000e+00\n",
      "Epoch 81/100\n",
      "700/700 [==============================] - 0s 6us/step - loss: nan - acc: 0.0000e+00 - val_loss: nan - val_acc: 0.0000e+00\n",
      "Epoch 82/100\n",
      "700/700 [==============================] - 0s 7us/step - loss: nan - acc: 0.0000e+00 - val_loss: nan - val_acc: 0.0000e+00\n",
      "Epoch 83/100\n",
      "700/700 [==============================] - 0s 5us/step - loss: nan - acc: 0.0000e+00 - val_loss: nan - val_acc: 0.0000e+00\n",
      "Epoch 84/100\n",
      "700/700 [==============================] - 0s 6us/step - loss: nan - acc: 0.0000e+00 - val_loss: nan - val_acc: 0.0000e+00\n",
      "Epoch 85/100\n",
      "700/700 [==============================] - 0s 7us/step - loss: nan - acc: 0.0000e+00 - val_loss: nan - val_acc: 0.0000e+00\n",
      "Epoch 86/100\n",
      "700/700 [==============================] - 0s 6us/step - loss: nan - acc: 0.0000e+00 - val_loss: nan - val_acc: 0.0000e+00\n",
      "Epoch 87/100\n",
      "700/700 [==============================] - 0s 4us/step - loss: nan - acc: 0.0000e+00 - val_loss: nan - val_acc: 0.0000e+00\n",
      "Epoch 88/100\n",
      "700/700 [==============================] - 0s 7us/step - loss: nan - acc: 0.0000e+00 - val_loss: nan - val_acc: 0.0000e+00\n",
      "Epoch 89/100\n",
      "700/700 [==============================] - 0s 4us/step - loss: nan - acc: 0.0000e+00 - val_loss: nan - val_acc: 0.0000e+00\n",
      "Epoch 90/100\n",
      "700/700 [==============================] - 0s 6us/step - loss: nan - acc: 0.0000e+00 - val_loss: nan - val_acc: 0.0000e+00\n",
      "Epoch 91/100\n",
      "700/700 [==============================] - 0s 7us/step - loss: nan - acc: 0.0000e+00 - val_loss: nan - val_acc: 0.0000e+00\n",
      "Epoch 92/100\n",
      "700/700 [==============================] - 0s 5us/step - loss: nan - acc: 0.0000e+00 - val_loss: nan - val_acc: 0.0000e+00\n",
      "Epoch 93/100\n",
      "700/700 [==============================] - 0s 6us/step - loss: nan - acc: 0.0000e+00 - val_loss: nan - val_acc: 0.0000e+00\n",
      "Epoch 94/100\n",
      "700/700 [==============================] - 0s 6us/step - loss: nan - acc: 0.0000e+00 - val_loss: nan - val_acc: 0.0000e+00\n",
      "Epoch 95/100\n",
      "700/700 [==============================] - 0s 4us/step - loss: nan - acc: 0.0000e+00 - val_loss: nan - val_acc: 0.0000e+00\n",
      "Epoch 96/100\n",
      "700/700 [==============================] - 0s 6us/step - loss: nan - acc: 0.0000e+00 - val_loss: nan - val_acc: 0.0000e+00\n",
      "Epoch 97/100\n",
      "700/700 [==============================] - 0s 7us/step - loss: nan - acc: 0.0000e+00 - val_loss: nan - val_acc: 0.0000e+00\n",
      "Epoch 98/100\n",
      "700/700 [==============================] - 0s 6us/step - loss: nan - acc: 0.0000e+00 - val_loss: nan - val_acc: 0.0000e+00\n",
      "Epoch 99/100\n",
      "700/700 [==============================] - 0s 6us/step - loss: nan - acc: 0.0000e+00 - val_loss: nan - val_acc: 0.0000e+00\n",
      "Epoch 100/100\n",
      "700/700 [==============================] - 0s 7us/step - loss: nan - acc: 0.0000e+00 - val_loss: nan - val_acc: 0.0000e+00\n"
     ]
    },
    {
     "data": {
      "text/plain": [
       "<tensorflow.python.keras.callbacks.History at 0x285229bc668>"
      ]
     },
     "execution_count": 92,
     "metadata": {},
     "output_type": "execute_result"
    }
   ],
   "source": [
    "model.fit(x_train, y_train, \n",
    "          validation_data=(x_test, y_test), \n",
    "          epochs=100,\n",
    "          batch_size=x_train.shape[0])"
   ]
  },
  {
   "cell_type": "markdown",
   "metadata": {},
   "source": [
    "#### Compare the accuracy scores across all the 3 models."
   ]
  },
  {
   "cell_type": "markdown",
   "metadata": {},
   "source": [
    "## All three accuracy scores are comparable and hence possibly inaccurate"
   ]
  }
 ],
 "metadata": {
  "kernelspec": {
   "display_name": "Python 3",
   "language": "python",
   "name": "python3"
  },
  "language_info": {
   "codemirror_mode": {
    "name": "ipython",
    "version": 3
   },
   "file_extension": ".py",
   "mimetype": "text/x-python",
   "name": "python",
   "nbconvert_exporter": "python",
   "pygments_lexer": "ipython3",
   "version": "3.6.5"
  }
 },
 "nbformat": 4,
 "nbformat_minor": 2
}
